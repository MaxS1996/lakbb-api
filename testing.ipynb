{
 "cells": [
  {
   "cell_type": "code",
   "execution_count": 1,
   "metadata": {},
   "outputs": [],
   "source": [
    "import notdienst_finder.pharmacy as phrm"
   ]
  },
  {
   "cell_type": "code",
   "execution_count": 2,
   "metadata": {},
   "outputs": [
    {
     "data": {
      "text/plain": [
       "[<Pharmacy Engel Apotheke Nord (Sonnewalder Straße 96, 03238 Finsterwalde,  Brandenburg)>,\n",
       " <Pharmacy Löwen-Apotheke (Roßmarkt 10/11, 04924 Bad Liebenwerda,  Brandenburg)>,\n",
       " <Pharmacy Stadt-Apotheke (Lange Straße 39/41, 03130 Spremberg,  Brandenburg)>,\n",
       " <Pharmacy Bergauf-Apotheke (Hauptstraße 24 a, 03096 Burg (Spreewald),  Brandenburg)>]"
      ]
     },
     "execution_count": 2,
     "metadata": {},
     "output_type": "execute_result"
    }
   ],
   "source": [
    "pharms = phrm.get_emergency_pharmacies(\"01987\")\n",
    "pharms"
   ]
  },
  {
   "cell_type": "code",
   "execution_count": 3,
   "metadata": {},
   "outputs": [
    {
     "name": "stdout",
     "output_type": "stream",
     "text": [
      "Engel Apotheke Nord\n",
      "Sonnewalder Straße 96\n",
      "03238 Finsterwalde\n",
      "\n",
      "03531 501047\n",
      "03531 507858\n",
      "https://www.apotheke-finsterwalde.de\n",
      "engelapotheke.nord.fiwa@gmail.com\n",
      "\n",
      "https://maps.google.de/maps?f=q&hl=de&geocode=&q=Sonnewalder%20Straße%2096+03238+Finsterwalde&z=11&iwloc=addr&om=0\n",
      "\n",
      "51.6438698 13.697282\n",
      "\n",
      "~~~~~~~~~~~~~~~~~~~~~~\n",
      "\n",
      "\n",
      "Löwen-Apotheke\n",
      "Roßmarkt 10/11\n",
      "04924 Bad Liebenwerda\n",
      "\n",
      "035341 10313\n",
      "None\n",
      "None\n",
      "None\n",
      "\n",
      "https://maps.google.de/maps?f=q&hl=de&geocode=&q=Roßmarkt%2010/11+04924+Bad%20Liebenwerda&z=11&iwloc=addr&om=0\n",
      "\n",
      "51.51561753032762 13.395161831814987\n",
      "\n",
      "~~~~~~~~~~~~~~~~~~~~~~\n",
      "\n",
      "\n",
      "Stadt-Apotheke\n",
      "Lange Straße 39/41\n",
      "03130 Spremberg\n",
      "\n",
      "03563 608390\n",
      "03563 6083939\n",
      "None\n",
      "None\n",
      "\n",
      "https://maps.google.de/maps?f=q&hl=de&geocode=&q=Lange%20Straße%2039/41+03130+Spremberg&z=11&iwloc=addr&om=0\n",
      "\n",
      "51.5708627 14.3780073\n",
      "\n",
      "~~~~~~~~~~~~~~~~~~~~~~\n",
      "\n",
      "\n",
      "Bergauf-Apotheke\n",
      "Hauptstraße 24 a\n",
      "03096 Burg (Spreewald)\n",
      "\n",
      "035603 18 99 37\n",
      "None\n",
      "None\n",
      "None\n",
      "\n",
      "https://maps.google.de/maps?f=q&hl=de&geocode=&q=Hauptstraße%2024%20a+03096+Burg%20(Spreewald)&z=11&iwloc=addr&om=0\n",
      "\n",
      "51.8351924 14.148719874419081\n",
      "\n",
      "~~~~~~~~~~~~~~~~~~~~~~\n",
      "\n",
      "\n"
     ]
    }
   ],
   "source": [
    "for pharm in pharms:\n",
    "    print(pharm.name)\n",
    "    print(pharm.street)\n",
    "    print(pharm.town)\n",
    "    print()\n",
    "    print(pharm.phone)\n",
    "    print(pharm.fax)\n",
    "    print(pharm.web)\n",
    "    print(pharm.mail)\n",
    "    print()\n",
    "    print(pharm.gmaps)\n",
    "    print()\n",
    "    print(pharm.latitude, pharm.longitude)\n",
    "    print()\n",
    "    print(\"~~~~~~~~~~~~~~~~~~~~~~\")\n",
    "    print()\n",
    "    print()"
   ]
  },
  {
   "cell_type": "code",
   "execution_count": 4,
   "metadata": {},
   "outputs": [
    {
     "name": "stdout",
     "output_type": "stream",
     "text": [
      "Engel Apotheke Nord\n",
      "Sonnewalder Straße 96\n",
      "Finsterwalde\n",
      "\n",
      "03531 501047\n",
      "03531 507858\n",
      "https://www.apotheke-finsterwalde.de\n",
      "engelapotheke.nord.fiwa@gmail.com\n",
      "\n",
      "https://maps.google.de/maps?f=q&hl=de&geocode=&q=Sonnewalder%20Straße%2096+03238+Finsterwalde&z=11&iwloc=addr&om=0\n",
      "~~~~~~~~~~~~~~~~~~~~~~\n",
      "Löwen-Apotheke\n",
      "Roßmarkt\n",
      "Bad Liebenwerda\n",
      "\n",
      "035341 10313\n",
      "None\n",
      "None\n",
      "None\n",
      "\n",
      "https://maps.google.de/maps?f=q&hl=de&geocode=&q=Roßmarkt%2010/11+04924+Bad%20Liebenwerda&z=11&iwloc=addr&om=0\n",
      "~~~~~~~~~~~~~~~~~~~~~~\n",
      "Stadt-Apotheke\n",
      "Lange Straße 39-41\n",
      "Spremberg\n",
      "\n",
      "03563 608390\n",
      "03563 6083939\n",
      "None\n",
      "None\n",
      "\n",
      "https://maps.google.de/maps?f=q&hl=de&geocode=&q=Lange%20Straße%2039/41+03130+Spremberg&z=11&iwloc=addr&om=0\n",
      "~~~~~~~~~~~~~~~~~~~~~~\n",
      "Bergauf-Apotheke\n",
      "Hauptstraße 24a\n",
      "03096 Burg (Spreewald)\n",
      "\n",
      "035603 18 99 37\n",
      "None\n",
      "None\n",
      "None\n",
      "\n",
      "https://maps.google.de/maps?f=q&hl=de&geocode=&q=Hauptstraße%2024%20a+03096+Burg%20(Spreewald)&z=11&iwloc=addr&om=0\n",
      "~~~~~~~~~~~~~~~~~~~~~~\n"
     ]
    }
   ],
   "source": [
    "for pharm in pharms:\n",
    "    pharm.update_with_osm()\n",
    "    print(pharm.name)\n",
    "    print(pharm.street)\n",
    "    print(pharm.town)\n",
    "    print()\n",
    "    print(pharm.phone)\n",
    "    print(pharm.fax)\n",
    "    print(pharm.web)\n",
    "    print(pharm.mail)\n",
    "    print()\n",
    "    print(pharm.gmaps)\n",
    "    print(\"~~~~~~~~~~~~~~~~~~~~~~\")"
   ]
  }
 ],
 "metadata": {
  "kernelspec": {
   "display_name": "venv",
   "language": "python",
   "name": "python3"
  },
  "language_info": {
   "codemirror_mode": {
    "name": "ipython",
    "version": 3
   },
   "file_extension": ".py",
   "mimetype": "text/x-python",
   "name": "python",
   "nbconvert_exporter": "python",
   "pygments_lexer": "ipython3",
   "version": "3.8.10"
  }
 },
 "nbformat": 4,
 "nbformat_minor": 2
}
